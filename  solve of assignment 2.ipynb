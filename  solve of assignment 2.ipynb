{
 "cells": [
  {
   "cell_type": "markdown",
   "id": "8523d30d",
   "metadata": {},
   "source": [
    "### Python program to interchange first and last elements in a list"
   ]
  },
  {
   "cell_type": "code",
   "execution_count": 1,
   "id": "1a055ada",
   "metadata": {},
   "outputs": [
    {
     "name": "stdout",
     "output_type": "stream",
     "text": [
      "[24, 35, 9, 56, 12]\n"
     ]
    }
   ],
   "source": [
    "list_one=[12,35,9,56,24]\n",
    "list_one[0],list_one[-1]=list_one[-1],list_one[0]\n",
    "print(list_one)"
   ]
  },
  {
   "cell_type": "markdown",
   "id": "2f05daad",
   "metadata": {},
   "source": [
    "### Find the Length of a List in Python"
   ]
  },
  {
   "cell_type": "code",
   "execution_count": 2,
   "id": "549c7c51",
   "metadata": {},
   "outputs": [
    {
     "name": "stdout",
     "output_type": "stream",
     "text": [
      "4\n"
     ]
    }
   ],
   "source": [
    "list_one=[10,20,30,40]\n",
    "print(len(list_one))"
   ]
  },
  {
   "cell_type": "markdown",
   "id": "cce8d465",
   "metadata": {},
   "source": [
    "### Find elements of a list by indices"
   ]
  },
  {
   "cell_type": "code",
   "execution_count": 8,
   "id": "60e56741",
   "metadata": {},
   "outputs": [
    {
     "name": "stdout",
     "output_type": "stream",
     "text": [
      "20\n",
      "40\n",
      "60\n"
     ]
    }
   ],
   "source": [
    "list_one=[10,20,30,40,50,60,70]\n",
    "list_two=[1,3,5]\n",
    "list_one[list_two[0]]\n",
    "print(list_one[list_two[0]])\n",
    "list_one[list_two[1]]\n",
    "print(list_one[list_two[1]])\n",
    "list_one[list_two[2]]\n",
    "print(list_one[list_two[2]])"
   ]
  },
  {
   "cell_type": "markdown",
   "id": "d9d98f0b",
   "metadata": {},
   "source": [
    "### Python program to find the String in a List"
   ]
  },
  {
   "cell_type": "code",
   "execution_count": 9,
   "id": "1fa5da58",
   "metadata": {},
   "outputs": [
    {
     "name": "stdout",
     "output_type": "stream",
     "text": [
      "Enter Your Listamit,py,machine,learning\n",
      "amit,py,machine,learning\n",
      "Enter Your Search Keypy\n",
      "py\n",
      "True\n"
     ]
    }
   ],
   "source": [
    "my_list=input(\"Enter Your List\")\n",
    "my_list.split(\",\")\n",
    "print(my_list)\n",
    "x=input(\"Enter Your Search Key\")\n",
    "print(x)\n",
    "print(x in my_list)"
   ]
  },
  {
   "cell_type": "code",
   "execution_count": 11,
   "id": "bb1f5547",
   "metadata": {},
   "outputs": [
    {
     "name": "stdout",
     "output_type": "stream",
     "text": [
      "Enter Your List1,2,3,4,5,6\n",
      "1,2,3,4,5,6\n",
      "Enter Your Search Key8\n",
      "8\n",
      "False\n"
     ]
    }
   ],
   "source": [
    "list_one=input(\"Enter Your List\")\n",
    "list_one.split(\",\")\n",
    "print(list_one)\n",
    "x=input(\"Enter Your Search Key\")\n",
    "print(x)\n",
    "print(x in list_one)"
   ]
  },
  {
   "cell_type": "markdown",
   "id": "c1e4ff20",
   "metadata": {},
   "source": [
    "### Ways to find indices of value in list"
   ]
  },
  {
   "cell_type": "code",
   "execution_count": 13,
   "id": "db86bfeb",
   "metadata": {},
   "outputs": [
    {
     "name": "stdout",
     "output_type": "stream",
     "text": [
      "Enter Your Listcat,dog,lion,tiger\n",
      "cat,dog,lion,tiger\n",
      "Enter Your Search Keycat\n",
      "cat\n",
      "0\n"
     ]
    }
   ],
   "source": [
    "list_of_animals=input(\"Enter Your List\")\n",
    "list_of_animals.split(\",\")\n",
    "print(list_of_animals)\n",
    "x=input(\"Enter Your Search Key\")\n",
    "print(x)\n",
    "print(list_of_animals.index(x))"
   ]
  },
  {
   "cell_type": "markdown",
   "id": "0de87513",
   "metadata": {},
   "source": [
    "### Find most frequent element in a list"
   ]
  },
  {
   "cell_type": "code",
   "execution_count": 21,
   "id": "23aaaa8e",
   "metadata": {},
   "outputs": [
    {
     "name": "stdout",
     "output_type": "stream",
     "text": [
      "Enter Your List\n",
      "123252\n",
      "123252\n",
      "2\n"
     ]
    }
   ],
   "source": [
    "list_one=input(\"Enter Your List\\n\")\n",
    "list_one.split(\",\")\n",
    "print(list_one)\n",
    "print(max(list_one,key=list_one.count))"
   ]
  },
  {
   "cell_type": "code",
   "execution_count": 23,
   "id": "ff13d99a",
   "metadata": {},
   "outputs": [
    {
     "name": "stdout",
     "output_type": "stream",
     "text": [
      "Enter your List\n",
      "dog,cat,tiger,cat\n",
      "dog,cat,tiger,cat\n",
      ",\n"
     ]
    }
   ],
   "source": [
    "list_one=input(\"Enter your List\\n\")\n",
    "list_one.split(\",\")\n",
    "print(list_one)\n",
    "print(max(list_one,key=list_one.count))"
   ]
  },
  {
   "cell_type": "markdown",
   "id": "0c5cdc0d",
   "metadata": {},
   "source": [
    "### Remove an Item from the List in Python."
   ]
  },
  {
   "cell_type": "code",
   "execution_count": 7,
   "id": "5c6cffd3",
   "metadata": {},
   "outputs": [
    {
     "name": "stdout",
     "output_type": "stream",
     "text": [
      "Enter Your List\n",
      "1,5,8\n",
      "['1', '5', '8']\n",
      "Enter The Word You Want To Remove It\n",
      "5\n",
      "5\n",
      "List After Removing Is\n",
      "\n",
      "['1', '8']\n"
     ]
    }
   ],
   "source": [
    "my_list=input(\"Enter Your List\\n\")\n",
    "my_list=my_list.split(\",\")\n",
    "print(my_list)\n",
    "x=input(\"Enter The Word You Want To Remove It\\n\")\n",
    "print(x)\n",
    "my_list.remove(x)\n",
    "print(\"List After Removing Is\\n\")\n",
    "print(my_list)"
   ]
  },
  {
   "cell_type": "markdown",
   "id": "45fa71f5",
   "metadata": {},
   "source": [
    "### Remove multiple elements from a list in Python"
   ]
  },
  {
   "cell_type": "code",
   "execution_count": 32,
   "id": "30617322",
   "metadata": {},
   "outputs": [
    {
     "name": "stdout",
     "output_type": "stream",
     "text": [
      "[15, 10]\n"
     ]
    }
   ],
   "source": [
    "list_one=[12,15,3,10]\n",
    "list_one=list_one[1:4:2]\n",
    "print(list_one)"
   ]
  },
  {
   "cell_type": "code",
   "execution_count": 35,
   "id": "7747ecdc",
   "metadata": {},
   "outputs": [
    {
     "name": "stdout",
     "output_type": "stream",
     "text": [
      "[11, 50]\n"
     ]
    }
   ],
   "source": [
    "list_two=[11,5,17,18,23,50]\n",
    "list_two=list_two[0:6:5]\n",
    "print(list_two)"
   ]
  },
  {
   "cell_type": "markdown",
   "id": "6f9a8fde",
   "metadata": {},
   "source": [
    "### python program to check whether the string is Palindrome and get the str from user"
   ]
  },
  {
   "cell_type": "code",
   "execution_count": 36,
   "id": "09a1ccee",
   "metadata": {},
   "outputs": [
    {
     "name": "stdout",
     "output_type": "stream",
     "text": [
      "Enter Your Word\n",
      "malayalam\n",
      "True\n"
     ]
    }
   ],
   "source": [
    "x=input(\"Enter Your Word\\n\")\n",
    "print(x==x[::-1])"
   ]
  },
  {
   "cell_type": "markdown",
   "id": "cbc9f13d",
   "metadata": {},
   "source": [
    "### Reverse Words in a Given String in Python"
   ]
  },
  {
   "cell_type": "code",
   "execution_count": 37,
   "id": "f616cb77",
   "metadata": {},
   "outputs": [
    {
     "name": "stdout",
     "output_type": "stream",
     "text": [
      "Enetr Your Stringamit machine learning diploma\n",
      "['diploma', 'learning', 'machine', 'amit']\n",
      "diploma learning machine amit\n"
     ]
    }
   ],
   "source": [
    "x=input(\"Enetr Your String\")\n",
    "y=x.split(\" \")[::-1]\n",
    "print(y)\n",
    "print(\" \".join(y))"
   ]
  },
  {
   "cell_type": "markdown",
   "id": "c21c7f20",
   "metadata": {},
   "source": [
    "### Find length of a string in python\n"
   ]
  },
  {
   "cell_type": "code",
   "execution_count": 38,
   "id": "6b991d1e",
   "metadata": {},
   "outputs": [
    {
     "name": "stdout",
     "output_type": "stream",
     "text": [
      "Enter Your word\n",
      "amit\n",
      "4\n"
     ]
    }
   ],
   "source": [
    "string=input(\"Enter Your word\\n\")\n",
    "print(len(string))"
   ]
  },
  {
   "cell_type": "markdown",
   "id": "cc80d28c",
   "metadata": {},
   "source": [
    "### Avoid Spaces in string length"
   ]
  },
  {
   "cell_type": "code",
   "execution_count": 1,
   "id": "8ffd8b54",
   "metadata": {},
   "outputs": [
    {
     "name": "stdout",
     "output_type": "stream",
     "text": [
      "12\n"
     ]
    }
   ],
   "source": [
    "string = \"Hello, world!  \"\n",
    "length_without_spaces = len(string.replace(\" \", \"\"))\n",
    "print(length_without_spaces)\n"
   ]
  },
  {
   "cell_type": "markdown",
   "id": "c3a36d85",
   "metadata": {},
   "source": [
    "### Smallest Length String in the list"
   ]
  },
  {
   "cell_type": "code",
   "execution_count": 5,
   "id": "6b70433f",
   "metadata": {},
   "outputs": [
    {
     "name": "stdout",
     "output_type": "stream",
     "text": [
      "is\n"
     ]
    }
   ],
   "source": [
    "list_one=[\"gfg\",\"is\",\"best\",\"for\",\"geeks\"]\n",
    "res=min(list_one,key=len)\n",
    "print(res)\n"
   ]
  },
  {
   "cell_type": "code",
   "execution_count": null,
   "id": "68643abb",
   "metadata": {},
   "outputs": [],
   "source": []
  }
 ],
 "metadata": {
  "kernelspec": {
   "display_name": "Python 3 (ipykernel)",
   "language": "python",
   "name": "python3"
  },
  "language_info": {
   "codemirror_mode": {
    "name": "ipython",
    "version": 3
   },
   "file_extension": ".py",
   "mimetype": "text/x-python",
   "name": "python",
   "nbconvert_exporter": "python",
   "pygments_lexer": "ipython3",
   "version": "3.10.9"
  }
 },
 "nbformat": 4,
 "nbformat_minor": 5
}
